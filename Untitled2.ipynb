{
  "nbformat": 4,
  "nbformat_minor": 0,
  "metadata": {
    "colab": {
      "provenance": [],
      "authorship_tag": "ABX9TyNCRnHDbdJ2uVuQoTCteRdm",
      "include_colab_link": true
    },
    "kernelspec": {
      "name": "python3",
      "display_name": "Python 3"
    },
    "language_info": {
      "name": "python"
    }
  },
  "cells": [
    {
      "cell_type": "markdown",
      "metadata": {
        "id": "view-in-github",
        "colab_type": "text"
      },
      "source": [
        "<a href=\"https://colab.research.google.com/github/yatrimodi/ml_learning_journey/blob/main/Untitled2.ipynb\" target=\"_parent\"><img src=\"https://colab.research.google.com/assets/colab-badge.svg\" alt=\"Open In Colab\"/></a>"
      ]
    },
    {
      "cell_type": "code",
      "source": [
        "# 🚨 Clear any old clones or nested junk\n",
        "!rm -rf /content/ml_learning_journey\n"
      ],
      "metadata": {
        "id": "XrgGdtxeDoU3"
      },
      "execution_count": 1,
      "outputs": []
    },
    {
      "cell_type": "markdown",
      "source": [],
      "metadata": {
        "id": "kHFjD0VLkq1o"
      }
    },
    {
      "cell_type": "code",
      "source": [
        "from getpass import getpass\n",
        "\n",
        "token = getpass(\"Enter your GitHub token: \")\n",
        "repo_url = f\"https://{token}@github.com/yatrimodi/ml_learning_journey.git\"\n",
        "\n",
        "!git config --global user.name \"Yatri Modi\"\n",
        "!git config --global user.email \"yatri1610@gmail.com\"\n",
        "\n",
        "!git clone {repo_url}\n",
        "%cd ml_learning_journey\n"
      ],
      "metadata": {
        "colab": {
          "base_uri": "https://localhost:8080/"
        },
        "id": "dXRdX58zkr55",
        "outputId": "db0cad87-83fd-4004-f869-6554022d1073"
      },
      "execution_count": 2,
      "outputs": [
        {
          "output_type": "stream",
          "name": "stdout",
          "text": [
            "Enter your GitHub token: ··········\n",
            "Cloning into 'ml_learning_journey'...\n",
            "remote: Enumerating objects: 6, done.\u001b[K\n",
            "remote: Counting objects: 100% (6/6), done.\u001b[K\n",
            "remote: Compressing objects: 100% (4/4), done.\u001b[K\n",
            "remote: Total 6 (delta 0), reused 6 (delta 0), pack-reused 0 (from 0)\u001b[K\n",
            "Receiving objects: 100% (6/6), 105.70 KiB | 1.35 MiB/s, done.\n",
            "/content/ml_learning_journey\n"
          ]
        }
      ]
    },
    {
      "cell_type": "code",
      "source": [
        "!cp /content/Linear_regression.ipynb ./Linear_regression.ipynb\n"
      ],
      "metadata": {
        "id": "XjgUbVRxlgKA"
      },
      "execution_count": 5,
      "outputs": []
    },
    {
      "cell_type": "code",
      "source": [
        "!ls /content/\n"
      ],
      "metadata": {
        "colab": {
          "base_uri": "https://localhost:8080/"
        },
        "id": "DQR39SA-lovI",
        "outputId": "092d0750-c3f6-48bf-e6ec-0c79964884e9"
      },
      "execution_count": 4,
      "outputs": [
        {
          "output_type": "stream",
          "name": "stdout",
          "text": [
            "Linear_regression.ipynb  ml_learning_journey  sample_data\n"
          ]
        }
      ]
    },
    {
      "cell_type": "code",
      "source": [
        "!cp /content/Linear_regression.ipynb ./Linear_regression.ipynb\n",
        "!git add Linear_regression.ipynb\n",
        "!git commit -m \"✅ Added Linear Regression notebook\"\n",
        "!git push https://<your_token>@github.com/yatrimodi/ml_learning_journey.git main\n"
      ],
      "metadata": {
        "colab": {
          "base_uri": "https://localhost:8080/"
        },
        "id": "k4J3AGeVl65A",
        "outputId": "dd4026d3-f5f0-4ab9-d30f-476fd25c9a31"
      },
      "execution_count": 6,
      "outputs": [
        {
          "output_type": "stream",
          "name": "stdout",
          "text": [
            "On branch main\n",
            "Your branch is up to date with 'origin/main'.\n",
            "\n",
            "nothing to commit, working tree clean\n",
            "/bin/bash: line 1: your_token: No such file or directory\n"
          ]
        }
      ]
    },
    {
      "cell_type": "code",
      "source": [
        "# 1. Securely get token\n",
        "from getpass import getpass\n",
        "token = getpass(\"Enter GitHub token: \")\n",
        "repo_url = f\"https://{token}@github.com/yatrimodi/ml_learning_journey.git\"\n",
        "\n",
        "# 2. Clone repo if needed\n",
        "!rm -rf ml_learning_journey\n",
        "!git clone {repo_url}\n",
        "%cd ml_learning_journey\n",
        "\n",
        "# 3. Upload notebook manually via sidebar OR ensure it exists\n",
        "# (Then move it into this folder)\n",
        "!cp /content/Linear_regression.ipynb ./Linear_regression.ipynb\n",
        "\n",
        "# 4. Add, commit, and push\n",
        "!git add Linear_regression.ipynb\n",
        "!git commit -m \"✅ Added Linear Regression notebook\"\n",
        "!git push {repo_url} main\n"
      ],
      "metadata": {
        "colab": {
          "base_uri": "https://localhost:8080/"
        },
        "id": "ZUlilcjemBgV",
        "outputId": "a2714946-056d-48f1-e970-ef5e5b0cfdc2"
      },
      "execution_count": 7,
      "outputs": [
        {
          "output_type": "stream",
          "name": "stdout",
          "text": [
            "Enter GitHub token: ··········\n",
            "Cloning into 'ml_learning_journey'...\n",
            "remote: Enumerating objects: 6, done.\u001b[K\n",
            "remote: Counting objects: 100% (6/6), done.\u001b[K\n",
            "remote: Compressing objects: 100% (4/4), done.\u001b[K\n",
            "remote: Total 6 (delta 0), reused 6 (delta 0), pack-reused 0 (from 0)\u001b[K\n",
            "Receiving objects: 100% (6/6), 105.70 KiB | 1.30 MiB/s, done.\n",
            "/content/ml_learning_journey/ml_learning_journey\n",
            "On branch main\n",
            "Your branch is up to date with 'origin/main'.\n",
            "\n",
            "nothing to commit, working tree clean\n",
            "Everything up-to-date\n"
          ]
        }
      ]
    },
    {
      "cell_type": "code",
      "source": [],
      "metadata": {
        "id": "m-j7O0zFmN3S"
      },
      "execution_count": null,
      "outputs": []
    }
  ]
}