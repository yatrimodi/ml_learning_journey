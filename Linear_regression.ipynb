{
  "nbformat": 4,
  "nbformat_minor": 0,
  "metadata": {
    "colab": {
      "provenance": [],
      "authorship_tag": "ABX9TyPBVE5b02ZZG4f3rQiQU03e",
      "include_colab_link": true
    },
    "kernelspec": {
      "name": "python3",
      "display_name": "Python 3"
    },
    "language_info": {
      "name": "python"
    }
  },
  "cells": [
    {
      "cell_type": "markdown",
      "metadata": {
        "id": "view-in-github",
        "colab_type": "text"
      },
      "source": [
        "<a href=\"https://colab.research.google.com/github/yatrimodi/ml_learning_journey/blob/main/Linear_regression.ipynb\" target=\"_parent\"><img src=\"https://colab.research.google.com/assets/colab-badge.svg\" alt=\"Open In Colab\"/></a>"
      ]
    },
    {
      "cell_type": "code",
      "execution_count": null,
      "metadata": {
        "id": "y9OkJqHht7vF"
      },
      "outputs": [],
      "source": [
        "import pandas as pd\n",
        "import numpy as np\n",
        "from sklearn import linear_model\n",
        "import matplotlib.pyplot as plt\n",
        "from sklearn.metrics import accuracy_score, precision_score, recall_score, f1_score,r2_score, mean_squared_error"
      ]
    },
    {
      "cell_type": "code",
      "source": [
        "df=pd.read_csv('/content/1.01. Simple linear regression.csv')\n",
        "df"
      ],
      "metadata": {
        "id": "fdxzUxC8uVDK",
        "collapsed": true
      },
      "execution_count": null,
      "outputs": []
    },
    {
      "cell_type": "code",
      "source": [
        "%matplotlib inline\n",
        "plt.xlabel('SAT')\n",
        "plt.ylabel('GPA')\n",
        "plt.scatter(df.SAT,df.GPA,color='red',marker='+')"
      ],
      "metadata": {
        "id": "73lCJalOucTF"
      },
      "execution_count": null,
      "outputs": []
    },
    {
      "cell_type": "code",
      "source": [
        "new_df=df.drop('GPA',axis='columns')\n",
        "new_df"
      ],
      "metadata": {
        "id": "bZquP4Ohut0i",
        "collapsed": true
      },
      "execution_count": null,
      "outputs": []
    },
    {
      "cell_type": "code",
      "source": [
        "model=linear_model.LinearRegression()\n",
        "model.fit(new_df,df.GPA)"
      ],
      "metadata": {
        "id": "0vlpltHFvBxn",
        "collapsed": true
      },
      "execution_count": null,
      "outputs": []
    },
    {
      "cell_type": "code",
      "source": [
        "y_pred=model.predict(df[['SAT']])\n"
      ],
      "metadata": {
        "id": "Vbe_4BgDvPUM",
        "collapsed": true
      },
      "execution_count": null,
      "outputs": []
    },
    {
      "cell_type": "code",
      "source": [
        "model.coef_"
      ],
      "metadata": {
        "id": "llp9wWSfvWt8",
        "collapsed": true
      },
      "execution_count": null,
      "outputs": []
    },
    {
      "cell_type": "code",
      "source": [
        "model.intercept_"
      ],
      "metadata": {
        "id": "5VNWJIRfvbgJ",
        "collapsed": true
      },
      "execution_count": null,
      "outputs": []
    },
    {
      "cell_type": "code",
      "source": [
        "0.00165569*1740+0.2750402996602799"
      ],
      "metadata": {
        "id": "LjxgaR_-vd6F",
        "collapsed": true
      },
      "execution_count": null,
      "outputs": []
    },
    {
      "cell_type": "code",
      "source": [
        "r2 = r2_score(df.GPA,y_pred)\n",
        "mse = mean_squared_error(df.GPA,y_pred)\n",
        "\n",
        "print(\"R² Score (Accuracy):\", r2)\n",
        "print(\"Mean Squared Error:\", mse)"
      ],
      "metadata": {
        "collapsed": true,
        "id": "5s2Y1iMmogeD"
      },
      "execution_count": null,
      "outputs": []
    },
    {
      "cell_type": "code",
      "source": [
        "model.predict([[1740]])"
      ],
      "metadata": {
        "collapsed": true,
        "id": "v9wa03jKoq4P"
      },
      "execution_count": null,
      "outputs": []
    },
    {
      "cell_type": "code",
      "source": [
        "df1=pd.read_csv('/content/Salary_dataset.csv')\n",
        "df1"
      ],
      "metadata": {
        "id": "jqK3FisXvnR3",
        "collapsed": true
      },
      "execution_count": null,
      "outputs": []
    },
    {
      "cell_type": "code",
      "source": [
        "%matplotlib inline\n",
        "plt.xlabel('YearsExperience')\n",
        "plt.ylabel('Salary')\n",
        "plt.scatter(df1.YearsExperience,df1.Salary,color='red',marker='+')"
      ],
      "metadata": {
        "id": "XW7gxJbWx8O2",
        "collapsed": true
      },
      "execution_count": null,
      "outputs": []
    },
    {
      "cell_type": "code",
      "source": [
        "model=linear_model.LinearRegression()\n",
        "model.fit(df1.drop('Salary',axis='columns'),df1.Salary)"
      ],
      "metadata": {
        "id": "pLg3ftszysRu",
        "collapsed": true
      },
      "execution_count": null,
      "outputs": []
    },
    {
      "cell_type": "code",
      "source": [
        "pred_y=model.predict(df1.drop('Salary',axis='columns'))"
      ],
      "metadata": {
        "id": "y9K4c-sPqFu8"
      },
      "execution_count": null,
      "outputs": []
    },
    {
      "cell_type": "code",
      "source": [
        "r2 = r2_score(df1.Salary,pred_y)\n",
        "mse = mean_squared_error(df1.Salary,pred_y)\n",
        "\n",
        "print(\"R² Score (Accuracy):\", r2)\n",
        "print(\"Mean Squared Error:\", mse)"
      ],
      "metadata": {
        "collapsed": true,
        "id": "A8A1LoTPqdcH"
      },
      "execution_count": null,
      "outputs": []
    },
    {
      "cell_type": "code",
      "source": [
        "model.coef_"
      ],
      "metadata": {
        "id": "KyiL00RizXis",
        "collapsed": true
      },
      "execution_count": null,
      "outputs": []
    },
    {
      "cell_type": "code",
      "source": [
        "df2=pd.read_csv('/content/news_summary.csv', encoding='latin-1')\n",
        "df2"
      ],
      "metadata": {
        "id": "ofC4jcQ1O2JU",
        "collapsed": true
      },
      "execution_count": null,
      "outputs": []
    },
    {
      "cell_type": "code",
      "source": [
        "print(df2.dtypes)"
      ],
      "metadata": {
        "id": "zREBvZ-YPqyA",
        "collapsed": true
      },
      "execution_count": null,
      "outputs": []
    },
    {
      "cell_type": "code",
      "source": [
        "from sklearn.model_selection import train_test_split\n",
        "from sklearn.feature_extraction.text import TfidfVectorizer\n",
        "from sklearn.linear_model import LogisticRegression\n",
        "from sklearn.metrics import classification_report"
      ],
      "metadata": {
        "id": "gXYuv2yAQHUN"
      },
      "execution_count": null,
      "outputs": []
    },
    {
      "cell_type": "code",
      "source": [
        "X = df2['ctext'].fillna('')"
      ],
      "metadata": {
        "id": "MXCffIRWRujx"
      },
      "execution_count": null,
      "outputs": []
    },
    {
      "cell_type": "code",
      "source": [
        "y = df2['headlines']"
      ],
      "metadata": {
        "id": "LqqAhF42RyBq"
      },
      "execution_count": null,
      "outputs": []
    },
    {
      "cell_type": "code",
      "source": [
        "X_train, X_test, y_train, y_test = train_test_split(X, y, test_size=0.2, random_state=42)"
      ],
      "metadata": {
        "id": "kdl_xMWeR-ma"
      },
      "execution_count": null,
      "outputs": []
    },
    {
      "cell_type": "code",
      "source": [
        "from sklearn.pipeline import make_pipeline\n",
        "model = make_pipeline(TfidfVectorizer(max_features=5000), LogisticRegression(max_iter=1000))"
      ],
      "metadata": {
        "id": "ymku_QXdSBCM"
      },
      "execution_count": null,
      "outputs": []
    },
    {
      "cell_type": "code",
      "source": [
        "model.fit(X_train, y_train)"
      ],
      "metadata": {
        "id": "zK8O9eXFSEqM",
        "collapsed": true
      },
      "execution_count": null,
      "outputs": []
    },
    {
      "cell_type": "code",
      "source": [
        "y_pred = model.predict(X_test)\n",
        "print(classification_report(y_test, y_pred))"
      ],
      "metadata": {
        "id": "wm3Zu2UHSH1p",
        "collapsed": true
      },
      "execution_count": null,
      "outputs": []
    },
    {
      "cell_type": "code",
      "source": [
        "!pip install transformers datasets\n",
        "\n",
        "from transformers import pipeline\n",
        "\n",
        "summarizer = pipeline(\"summarization\", model=\"facebook/bart-large-cnn\")\n",
        "summary = summarizer(\"Your long article text here\", max_length=50, min_length=10, do_sample=False)\n",
        "print(summary)\n"
      ],
      "metadata": {
        "id": "Uxnye2LSS_4q",
        "collapsed": true
      },
      "execution_count": null,
      "outputs": []
    },
    {
      "cell_type": "code",
      "source": [
        "text = \"Paragraphs are the building blocks of papers. Many students define paragraphs in terms of length: a paragraph is a group of at least five sentences, a paragraph is half a page long, etc. In reality, though, the unity and coherence of ideas among sentences is what constitutes a paragraph. A paragraph is defined as “a group of sentences or a single sentence that forms a unit” (Lunsford and Connors 116). Length and appearance do not determine whether a section in a paper is a paragraph. For instance, in some styles of writing, particularly journalistic styles, a paragraph can be just one sentence long. Ultimately, a paragraph is a sentence or group of sentences that support one main idea. In this handout, we will refer to this as the “controlling idea,” because it controls what happens in the rest of the paragraph.\"\n",
        "summary = summarizer(text, max_length=30, min_length=5, do_sample=True)\n",
        "\n",
        "print(summary[0]['summary_text'])"
      ],
      "metadata": {
        "id": "OfiEBlKoTFaU",
        "collapsed": true
      },
      "execution_count": null,
      "outputs": []
    },
    {
      "cell_type": "code",
      "source": [
        "acc = accuracy_score(y_test, y_pred)\n",
        "print(\"Accuracy:\", acc)"
      ],
      "metadata": {
        "id": "TVaGLOQemgPC"
      },
      "execution_count": null,
      "outputs": []
    }
  ]
}